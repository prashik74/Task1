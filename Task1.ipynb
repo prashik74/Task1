{
 "cells": [
  {
   "cell_type": "code",
   "execution_count": 1,
   "id": "9f6f3057-4049-4cb9-bc2e-af0331359aa6",
   "metadata": {},
   "outputs": [],
   "source": [
    "import pandas as pd\n",
    "from pyspark.sql import SparkSession\n",
    "from pyspark.sql.functions import col, count, avg, max, min"
   ]
  },
  {
   "cell_type": "code",
   "execution_count": 2,
   "id": "ccd57eed-77ed-44e6-bbef-6e669a699938",
   "metadata": {},
   "outputs": [],
   "source": [
    "# Initialize Spark Session\n",
    "spark = SparkSession.builder.appName(\"Big Data Analysis\").config(\"spark.some.config.option\", \"some-value\").getOrCreate()"
   ]
  },
  {
   "cell_type": "code",
   "execution_count": 3,
   "id": "4c4f9f36-41a1-4c3d-9e38-efb73950a08d",
   "metadata": {},
   "outputs": [],
   "source": [
    "# Load Large Dataset (Example: CSV File)\n",
    "df = spark.read.csv(\"C:/Users/Prashik/OneDrive/Desktop/ml/Heart.csv\", header=True, inferSchema=True)"
   ]
  },
  {
   "cell_type": "code",
   "execution_count": 4,
   "id": "34717ec2-018f-4eed-bb1b-fe12adcf72fa",
   "metadata": {},
   "outputs": [
    {
     "name": "stdout",
     "output_type": "stream",
     "text": [
      "+---+---+---+------------+------+----+---+-------+-----+-----+-------+-----+---+----------+---+\n",
      "|_c0|Age|Sex|   ChestPain|RestBP|Chol|Fbs|RestECG|MaxHR|ExAng|Oldpeak|Slope| Ca|      Thal|AHD|\n",
      "+---+---+---+------------+------+----+---+-------+-----+-----+-------+-----+---+----------+---+\n",
      "|  1| 63|  1|     typical|   145| 233|  1|      2|  150|    0|    2.3|    3|  0|     fixed| No|\n",
      "|  2| 67|  1|asymptomatic|   160| 286|  0|      2|  108|    1|    1.5|    2|  3|    normal|Yes|\n",
      "|  3| 67|  1|asymptomatic|   120| 229|  0|      2|  129|    1|    2.6|    2|  2|reversable|Yes|\n",
      "|  4| 37|  1|  nonanginal|   130| 250|  0|      0|  187|    0|    3.5|    3|  0|    normal| No|\n",
      "|  5| 41|  0|  nontypical|   130| 204|  0|      2|  172|    0|    1.4|    1|  0|    normal| No|\n",
      "+---+---+---+------------+------+----+---+-------+-----+-----+-------+-----+---+----------+---+\n",
      "only showing top 5 rows\n",
      "\n"
     ]
    }
   ],
   "source": [
    "df.show(5)"
   ]
  },
  {
   "cell_type": "code",
   "execution_count": 5,
   "id": "f71a2a08-7685-45c7-92bd-93d8f99c1e59",
   "metadata": {},
   "outputs": [
    {
     "name": "stdout",
     "output_type": "stream",
     "text": [
      "+---+---+---+------------+------+----+---+-------+-----+-----+-------+-----+---+----------+---+\n",
      "|_c0|Age|Sex|   ChestPain|RestBP|Chol|Fbs|RestECG|MaxHR|ExAng|Oldpeak|Slope| Ca|      Thal|AHD|\n",
      "+---+---+---+------------+------+----+---+-------+-----+-----+-------+-----+---+----------+---+\n",
      "|  1| 63|  1|     typical|   145| 233|  1|      2|  150|    0|    2.3|    3|  0|     fixed| No|\n",
      "|  2| 67|  1|asymptomatic|   160| 286|  0|      2|  108|    1|    1.5|    2|  3|    normal|Yes|\n",
      "|  3| 67|  1|asymptomatic|   120| 229|  0|      2|  129|    1|    2.6|    2|  2|reversable|Yes|\n",
      "|  4| 37|  1|  nonanginal|   130| 250|  0|      0|  187|    0|    3.5|    3|  0|    normal| No|\n",
      "|  5| 41|  0|  nontypical|   130| 204|  0|      2|  172|    0|    1.4|    1|  0|    normal| No|\n",
      "|  6| 56|  1|  nontypical|   120| 236|  0|      0|  178|    0|    0.8|    1|  0|    normal| No|\n",
      "|  7| 62|  0|asymptomatic|   140| 268|  0|      2|  160|    0|    3.6|    3|  2|    normal|Yes|\n",
      "|  8| 57|  0|asymptomatic|   120| 354|  0|      0|  163|    1|    0.6|    1|  0|    normal| No|\n",
      "|  9| 63|  1|asymptomatic|   130| 254|  0|      2|  147|    0|    1.4|    2|  1|reversable|Yes|\n",
      "| 10| 53|  1|asymptomatic|   140| 203|  1|      2|  155|    1|    3.1|    3|  0|reversable|Yes|\n",
      "| 11| 57|  1|asymptomatic|   140| 192|  0|      0|  148|    0|    0.4|    2|  0|     fixed| No|\n",
      "| 12| 56|  0|  nontypical|   140| 294|  0|      2|  153|    0|    1.3|    2|  0|    normal| No|\n",
      "| 13| 56|  1|  nonanginal|   130| 256|  1|      2|  142|    1|    0.6|    2|  1|     fixed|Yes|\n",
      "| 14| 44|  1|  nontypical|   120| 263|  0|      0|  173|    0|    0.0|    1|  0|reversable| No|\n",
      "| 15| 52|  1|  nonanginal|   172| 199|  1|      0|  162|    0|    0.5|    1|  0|reversable| No|\n",
      "| 16| 57|  1|  nonanginal|   150| 168|  0|      0|  174|    0|    1.6|    1|  0|    normal| No|\n",
      "| 17| 48|  1|  nontypical|   110| 229|  0|      0|  168|    0|    1.0|    3|  0|reversable|Yes|\n",
      "| 18| 54|  1|asymptomatic|   140| 239|  0|      0|  160|    0|    1.2|    1|  0|    normal| No|\n",
      "| 19| 48|  0|  nonanginal|   130| 275|  0|      0|  139|    0|    0.2|    1|  0|    normal| No|\n",
      "| 20| 49|  1|  nontypical|   130| 266|  0|      0|  171|    0|    0.6|    1|  0|    normal| No|\n",
      "+---+---+---+------------+------+----+---+-------+-----+-----+-------+-----+---+----------+---+\n",
      "only showing top 20 rows\n",
      "\n"
     ]
    }
   ],
   "source": [
    "df.show()"
   ]
  },
  {
   "cell_type": "code",
   "execution_count": 6,
   "id": "60921cda-f042-444e-adc1-e55dba89e7ff",
   "metadata": {},
   "outputs": [
    {
     "name": "stdout",
     "output_type": "stream",
     "text": [
      "root\n",
      " |-- _c0: integer (nullable = true)\n",
      " |-- Age: integer (nullable = true)\n",
      " |-- Sex: integer (nullable = true)\n",
      " |-- ChestPain: string (nullable = true)\n",
      " |-- RestBP: integer (nullable = true)\n",
      " |-- Chol: integer (nullable = true)\n",
      " |-- Fbs: integer (nullable = true)\n",
      " |-- RestECG: integer (nullable = true)\n",
      " |-- MaxHR: integer (nullable = true)\n",
      " |-- ExAng: integer (nullable = true)\n",
      " |-- Oldpeak: double (nullable = true)\n",
      " |-- Slope: integer (nullable = true)\n",
      " |-- Ca: string (nullable = true)\n",
      " |-- Thal: string (nullable = true)\n",
      " |-- AHD: string (nullable = true)\n",
      "\n"
     ]
    }
   ],
   "source": [
    "# Show Schema\n",
    "df.printSchema()"
   ]
  },
  {
   "cell_type": "code",
   "execution_count": 7,
   "id": "ead16507-bcc3-4224-8ba2-79e4d7ccb0a8",
   "metadata": {},
   "outputs": [
    {
     "name": "stdout",
     "output_type": "stream",
     "text": [
      "+-------+-----------------+-----------------+-------------------+------------+------------------+------------------+------------------+------------------+------------------+-------------------+------------------+------------------+------------------+----------+----+\n",
      "|summary|              _c0|              Age|                Sex|   ChestPain|            RestBP|              Chol|               Fbs|           RestECG|             MaxHR|              ExAng|           Oldpeak|             Slope|                Ca|      Thal| AHD|\n",
      "+-------+-----------------+-----------------+-------------------+------------+------------------+------------------+------------------+------------------+------------------+-------------------+------------------+------------------+------------------+----------+----+\n",
      "|  count|              303|              303|                303|         303|               303|               303|               303|               303|               303|                303|               303|               303|               303|       303| 303|\n",
      "|   mean|            152.0|54.43894389438944| 0.6798679867986799|        NULL|131.68976897689768|246.69306930693068|0.1485148514851485|0.9900990099009901| 149.6072607260726|0.32673267326732675|1.0396039603960396|1.6006600660066006|0.6722408026755853|      NULL|NULL|\n",
      "| stddev|87.61278445523804| 9.03866244244675|0.46729882777012977|        NULL| 17.59974772958769|51.776917542637065|0.3561978749279763|0.9949712915251783|22.875003276980383|0.46979446452231644| 1.161075022068635|0.6162261453459619| 0.937438317724216|      NULL|NULL|\n",
      "|    min|                1|               29|                  0|asymptomatic|                94|               126|                 0|                 0|                71|                  0|               0.0|                 1|                 0|        NA|  No|\n",
      "|    max|              303|               77|                  1|     typical|               200|               564|                 1|                 2|               202|                  1|               6.2|                 3|                NA|reversable| Yes|\n",
      "+-------+-----------------+-----------------+-------------------+------------+------------------+------------------+------------------+------------------+------------------+-------------------+------------------+------------------+------------------+----------+----+\n",
      "\n"
     ]
    }
   ],
   "source": [
    "# Basic Data Summary\n",
    "df.describe().show()"
   ]
  },
  {
   "cell_type": "code",
   "execution_count": 8,
   "id": "b1ed3b3c-70af-4eb0-bcba-8aa0fe933620",
   "metadata": {},
   "outputs": [],
   "source": [
    "# Data Cleaning: Removing null values\n",
    "df_clean = df.dropna()"
   ]
  },
  {
   "cell_type": "code",
   "execution_count": 9,
   "id": "750e0237-af9b-4cc9-8045-c4bf8133d90d",
   "metadata": {},
   "outputs": [],
   "source": [
    "# Aggregation Example: Group by a categorical column Age and compute averages\n",
    "agg_df = df_clean.groupBy(\"Age\").agg(count(\"Age\").alias(\"count\"),avg(\"Age\").alias(\"average\"),max(\"Age\").alias(\"max\"),min(\"Age\").alias(\"min\"))"
   ]
  },
  {
   "cell_type": "code",
   "execution_count": 10,
   "id": "9ead67a6-5eac-43a7-b1fb-cd441da6099e",
   "metadata": {},
   "outputs": [
    {
     "name": "stdout",
     "output_type": "stream",
     "text": [
      "+---+-----+-------+---+---+\n",
      "|Age|count|average|max|min|\n",
      "+---+-----+-------+---+---+\n",
      "| 65|    8|   65.0| 65| 65|\n",
      "| 53|    8|   53.0| 53| 53|\n",
      "| 34|    2|   34.0| 34| 34|\n",
      "| 76|    1|   76.0| 76| 76|\n",
      "| 44|   11|   44.0| 44| 44|\n",
      "| 47|    5|   47.0| 47| 47|\n",
      "| 52|   13|   52.0| 52| 52|\n",
      "| 40|    3|   40.0| 40| 40|\n",
      "| 57|   17|   57.0| 57| 57|\n",
      "| 54|   16|   54.0| 54| 54|\n",
      "| 48|    7|   48.0| 48| 48|\n",
      "| 64|   10|   64.0| 64| 64|\n",
      "| 41|   10|   41.0| 41| 41|\n",
      "| 43|    8|   43.0| 43| 43|\n",
      "| 37|    2|   37.0| 37| 37|\n",
      "| 61|    8|   61.0| 61| 61|\n",
      "| 35|    4|   35.0| 35| 35|\n",
      "| 59|   14|   59.0| 59| 59|\n",
      "| 55|    8|   55.0| 55| 55|\n",
      "| 39|    4|   39.0| 39| 39|\n",
      "+---+-----+-------+---+---+\n",
      "only showing top 20 rows\n",
      "\n"
     ]
    }
   ],
   "source": [
    "# Show Aggregated Data\n",
    "agg_df.show()"
   ]
  },
  {
   "cell_type": "code",
   "execution_count": 11,
   "id": "77695830-2e39-440f-9c8a-98aed8621b77",
   "metadata": {},
   "outputs": [],
   "source": [
    "# Aggregation Example: Group by a categorical column Sex and compute averages\n",
    "agg_df = df_clean.groupBy(\"Sex\").agg(count(\"Sex\").alias(\"count\"),avg(\"Sex\").alias(\"average\"),max(\"Sex\").alias(\"max\"),min(\"Sex\").alias(\"min\"))"
   ]
  },
  {
   "cell_type": "code",
   "execution_count": 12,
   "id": "48cfd7ee-efc4-4e1a-bbf1-f348ee5a7c3d",
   "metadata": {},
   "outputs": [
    {
     "name": "stdout",
     "output_type": "stream",
     "text": [
      "+---+-----+-------+---+---+\n",
      "|Sex|count|average|max|min|\n",
      "+---+-----+-------+---+---+\n",
      "|  1|  206|    1.0|  1|  1|\n",
      "|  0|   97|    0.0|  0|  0|\n",
      "+---+-----+-------+---+---+\n",
      "\n"
     ]
    }
   ],
   "source": [
    "# Show Aggregated Data\n",
    "agg_df.show()"
   ]
  },
  {
   "cell_type": "code",
   "execution_count": 13,
   "id": "277bc5a9-2bbf-4960-b7c7-760171d399ca",
   "metadata": {},
   "outputs": [],
   "source": [
    "# Aggregation Example: Group by a categorical column RestBP and compute averages\n",
    "agg_df = df_clean.groupBy(\"RestBP\").agg(count(\"RestBP\").alias(\"count\"),avg(\"RestBP\").alias(\"average\"),max(\"RestBP\").alias(\"max\"),min(\"RestBP\").alias(\"min\"))"
   ]
  },
  {
   "cell_type": "code",
   "execution_count": 14,
   "id": "c25615eb-8005-4bd6-bfec-59035c0dac7a",
   "metadata": {},
   "outputs": [
    {
     "name": "stdout",
     "output_type": "stream",
     "text": [
      "+------+-----+-------+---+---+\n",
      "|RestBP|count|average|max|min|\n",
      "+------+-----+-------+---+---+\n",
      "|   148|    2|  148.0|148|148|\n",
      "|   155|    1|  155.0|155|155|\n",
      "|   108|    6|  108.0|108|108|\n",
      "|   115|    3|  115.0|115|115|\n",
      "|   101|    1|  101.0|101|101|\n",
      "|   126|    3|  126.0|126|126|\n",
      "|   192|    1|  192.0|192|192|\n",
      "|   128|   12|  128.0|128|128|\n",
      "|   122|    4|  122.0|122|122|\n",
      "|   140|   32|  140.0|140|140|\n",
      "|   132|    8|  132.0|132|132|\n",
      "|   152|    5|  152.0|152|152|\n",
      "|   146|    2|  146.0|146|146|\n",
      "|   142|    3|  142.0|142|142|\n",
      "|   178|    2|  178.0|178|178|\n",
      "|   164|    1|  164.0|164|164|\n",
      "|    94|    2|   94.0| 94| 94|\n",
      "|   120|   37|  120.0|120|120|\n",
      "|   117|    1|  117.0|117|117|\n",
      "|   154|    1|  154.0|154|154|\n",
      "+------+-----+-------+---+---+\n",
      "only showing top 20 rows\n",
      "\n"
     ]
    }
   ],
   "source": [
    "# Show Aggregated Data\n",
    "agg_df.show()"
   ]
  },
  {
   "cell_type": "code",
   "execution_count": 15,
   "id": "d6d17ac9-54dd-46d7-936c-7111c6d6f718",
   "metadata": {},
   "outputs": [],
   "source": [
    "# Stop Spark Session\n",
    "spark.stop()"
   ]
  },
  {
   "cell_type": "code",
   "execution_count": null,
   "id": "f414de0a-6aa0-43bb-9f32-5fa7e91d06e7",
   "metadata": {},
   "outputs": [],
   "source": []
  }
 ],
 "metadata": {
  "kernelspec": {
   "display_name": "Python 3 (ipykernel)",
   "language": "python",
   "name": "python3"
  },
  "language_info": {
   "codemirror_mode": {
    "name": "ipython",
    "version": 3
   },
   "file_extension": ".py",
   "mimetype": "text/x-python",
   "name": "python",
   "nbconvert_exporter": "python",
   "pygments_lexer": "ipython3",
   "version": "3.12.4"
  }
 },
 "nbformat": 4,
 "nbformat_minor": 5
}
