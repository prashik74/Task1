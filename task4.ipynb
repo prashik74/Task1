{
 "cells": [
  {
   "cell_type": "code",
   "execution_count": 1,
   "id": "4fad4572-2d4d-41b5-ad60-bae72c3b9ff8",
   "metadata": {},
   "outputs": [],
   "source": [
    "import pandas as pd\n",
    "import re\n",
    "import nltk\n",
    "from nltk.corpus import stopwords\n",
    "from nltk.sentiment import SentimentIntensityAnalyzer\n",
    "import matplotlib.pyplot as plt\n",
    "import seaborn as sns"
   ]
  },
  {
   "cell_type": "code",
   "execution_count": 2,
   "id": "4f48da76-88db-4062-892d-ce0859e37cfc",
   "metadata": {},
   "outputs": [
    {
     "name": "stderr",
     "output_type": "stream",
     "text": [
      "[nltk_data] Downloading package vader_lexicon to\n",
      "[nltk_data]     C:\\Users\\Prashik\\AppData\\Roaming\\nltk_data...\n",
      "[nltk_data] Downloading package stopwords to\n",
      "[nltk_data]     C:\\Users\\Prashik\\AppData\\Roaming\\nltk_data...\n",
      "[nltk_data]   Unzipping corpora\\stopwords.zip.\n"
     ]
    },
    {
     "data": {
      "text/plain": [
       "True"
      ]
     },
     "execution_count": 2,
     "metadata": {},
     "output_type": "execute_result"
    }
   ],
   "source": [
    "nltk.download('vader_lexicon')\n",
    "nltk.download('stopwords')\n"
   ]
  },
  {
   "cell_type": "code",
   "execution_count": 3,
   "id": "0c0188c7-19d9-4a06-ba1c-3fa261a11912",
   "metadata": {},
   "outputs": [],
   "source": [
    "df = pd.read_csv(\"C:/Users/Prashik/OneDrive/Desktop/ml/Energy_consumption.csv\")"
   ]
  },
  {
   "cell_type": "code",
   "execution_count": 4,
   "id": "eee0d7de-ed9c-468b-87a2-7ce3154c7c91",
   "metadata": {},
   "outputs": [
    {
     "data": {
      "text/html": [
       "<div>\n",
       "<style scoped>\n",
       "    .dataframe tbody tr th:only-of-type {\n",
       "        vertical-align: middle;\n",
       "    }\n",
       "\n",
       "    .dataframe tbody tr th {\n",
       "        vertical-align: top;\n",
       "    }\n",
       "\n",
       "    .dataframe thead th {\n",
       "        text-align: right;\n",
       "    }\n",
       "</style>\n",
       "<table border=\"1\" class=\"dataframe\">\n",
       "  <thead>\n",
       "    <tr style=\"text-align: right;\">\n",
       "      <th></th>\n",
       "      <th>Temperature</th>\n",
       "      <th>Humidity</th>\n",
       "      <th>SquareFootage</th>\n",
       "      <th>Occupancy</th>\n",
       "      <th>RenewableEnergy</th>\n",
       "      <th>EnergyConsumption</th>\n",
       "    </tr>\n",
       "  </thead>\n",
       "  <tbody>\n",
       "    <tr>\n",
       "      <th>count</th>\n",
       "      <td>1000.000000</td>\n",
       "      <td>1000.000000</td>\n",
       "      <td>1000.000000</td>\n",
       "      <td>1000.000000</td>\n",
       "      <td>1000.000000</td>\n",
       "      <td>1000.000000</td>\n",
       "    </tr>\n",
       "    <tr>\n",
       "      <th>mean</th>\n",
       "      <td>24.982026</td>\n",
       "      <td>45.395412</td>\n",
       "      <td>1500.052488</td>\n",
       "      <td>4.581000</td>\n",
       "      <td>15.132813</td>\n",
       "      <td>77.055873</td>\n",
       "    </tr>\n",
       "    <tr>\n",
       "      <th>std</th>\n",
       "      <td>2.836850</td>\n",
       "      <td>8.518905</td>\n",
       "      <td>288.418873</td>\n",
       "      <td>2.865598</td>\n",
       "      <td>8.745917</td>\n",
       "      <td>8.144112</td>\n",
       "    </tr>\n",
       "    <tr>\n",
       "      <th>min</th>\n",
       "      <td>20.007565</td>\n",
       "      <td>30.015975</td>\n",
       "      <td>1000.512661</td>\n",
       "      <td>0.000000</td>\n",
       "      <td>0.006642</td>\n",
       "      <td>53.263278</td>\n",
       "    </tr>\n",
       "    <tr>\n",
       "      <th>25%</th>\n",
       "      <td>22.645070</td>\n",
       "      <td>38.297722</td>\n",
       "      <td>1247.108548</td>\n",
       "      <td>2.000000</td>\n",
       "      <td>7.628385</td>\n",
       "      <td>71.544690</td>\n",
       "    </tr>\n",
       "    <tr>\n",
       "      <th>50%</th>\n",
       "      <td>24.751637</td>\n",
       "      <td>45.972116</td>\n",
       "      <td>1507.967426</td>\n",
       "      <td>5.000000</td>\n",
       "      <td>15.072296</td>\n",
       "      <td>76.943696</td>\n",
       "    </tr>\n",
       "    <tr>\n",
       "      <th>75%</th>\n",
       "      <td>27.418174</td>\n",
       "      <td>52.420066</td>\n",
       "      <td>1740.340165</td>\n",
       "      <td>7.000000</td>\n",
       "      <td>22.884064</td>\n",
       "      <td>82.921742</td>\n",
       "    </tr>\n",
       "    <tr>\n",
       "      <th>max</th>\n",
       "      <td>29.998671</td>\n",
       "      <td>59.969085</td>\n",
       "      <td>1999.982252</td>\n",
       "      <td>9.000000</td>\n",
       "      <td>29.965327</td>\n",
       "      <td>99.201120</td>\n",
       "    </tr>\n",
       "  </tbody>\n",
       "</table>\n",
       "</div>"
      ],
      "text/plain": [
       "       Temperature     Humidity  SquareFootage    Occupancy  RenewableEnergy  \\\n",
       "count  1000.000000  1000.000000    1000.000000  1000.000000      1000.000000   \n",
       "mean     24.982026    45.395412    1500.052488     4.581000        15.132813   \n",
       "std       2.836850     8.518905     288.418873     2.865598         8.745917   \n",
       "min      20.007565    30.015975    1000.512661     0.000000         0.006642   \n",
       "25%      22.645070    38.297722    1247.108548     2.000000         7.628385   \n",
       "50%      24.751637    45.972116    1507.967426     5.000000        15.072296   \n",
       "75%      27.418174    52.420066    1740.340165     7.000000        22.884064   \n",
       "max      29.998671    59.969085    1999.982252     9.000000        29.965327   \n",
       "\n",
       "       EnergyConsumption  \n",
       "count        1000.000000  \n",
       "mean           77.055873  \n",
       "std             8.144112  \n",
       "min            53.263278  \n",
       "25%            71.544690  \n",
       "50%            76.943696  \n",
       "75%            82.921742  \n",
       "max            99.201120  "
      ]
     },
     "execution_count": 4,
     "metadata": {},
     "output_type": "execute_result"
    }
   ],
   "source": [
    "df.describe()"
   ]
  },
  {
   "cell_type": "code",
   "execution_count": 5,
   "id": "34b8b6ea-8088-40bc-af1e-77b119b328f4",
   "metadata": {},
   "outputs": [
    {
     "data": {
      "text/html": [
       "<div>\n",
       "<style scoped>\n",
       "    .dataframe tbody tr th:only-of-type {\n",
       "        vertical-align: middle;\n",
       "    }\n",
       "\n",
       "    .dataframe tbody tr th {\n",
       "        vertical-align: top;\n",
       "    }\n",
       "\n",
       "    .dataframe thead th {\n",
       "        text-align: right;\n",
       "    }\n",
       "</style>\n",
       "<table border=\"1\" class=\"dataframe\">\n",
       "  <thead>\n",
       "    <tr style=\"text-align: right;\">\n",
       "      <th></th>\n",
       "      <th>Timestamp</th>\n",
       "      <th>Temperature</th>\n",
       "      <th>Humidity</th>\n",
       "      <th>SquareFootage</th>\n",
       "      <th>Occupancy</th>\n",
       "      <th>HVACUsage</th>\n",
       "      <th>LightingUsage</th>\n",
       "      <th>RenewableEnergy</th>\n",
       "      <th>DayOfWeek</th>\n",
       "      <th>Holiday</th>\n",
       "      <th>EnergyConsumption</th>\n",
       "    </tr>\n",
       "  </thead>\n",
       "  <tbody>\n",
       "    <tr>\n",
       "      <th>0</th>\n",
       "      <td>2022-01-01 00:00:00</td>\n",
       "      <td>25.139433</td>\n",
       "      <td>43.431581</td>\n",
       "      <td>1565.693999</td>\n",
       "      <td>5</td>\n",
       "      <td>On</td>\n",
       "      <td>Off</td>\n",
       "      <td>2.774699</td>\n",
       "      <td>Monday</td>\n",
       "      <td>No</td>\n",
       "      <td>75.364373</td>\n",
       "    </tr>\n",
       "    <tr>\n",
       "      <th>1</th>\n",
       "      <td>2022-01-01 01:00:00</td>\n",
       "      <td>27.731651</td>\n",
       "      <td>54.225919</td>\n",
       "      <td>1411.064918</td>\n",
       "      <td>1</td>\n",
       "      <td>On</td>\n",
       "      <td>On</td>\n",
       "      <td>21.831384</td>\n",
       "      <td>Saturday</td>\n",
       "      <td>No</td>\n",
       "      <td>83.401855</td>\n",
       "    </tr>\n",
       "    <tr>\n",
       "      <th>2</th>\n",
       "      <td>2022-01-01 02:00:00</td>\n",
       "      <td>28.704277</td>\n",
       "      <td>58.907658</td>\n",
       "      <td>1755.715009</td>\n",
       "      <td>2</td>\n",
       "      <td>Off</td>\n",
       "      <td>Off</td>\n",
       "      <td>6.764672</td>\n",
       "      <td>Sunday</td>\n",
       "      <td>No</td>\n",
       "      <td>78.270888</td>\n",
       "    </tr>\n",
       "    <tr>\n",
       "      <th>3</th>\n",
       "      <td>2022-01-01 03:00:00</td>\n",
       "      <td>20.080469</td>\n",
       "      <td>50.371637</td>\n",
       "      <td>1452.316318</td>\n",
       "      <td>1</td>\n",
       "      <td>Off</td>\n",
       "      <td>On</td>\n",
       "      <td>8.623447</td>\n",
       "      <td>Wednesday</td>\n",
       "      <td>No</td>\n",
       "      <td>56.519850</td>\n",
       "    </tr>\n",
       "    <tr>\n",
       "      <th>4</th>\n",
       "      <td>2022-01-01 04:00:00</td>\n",
       "      <td>23.097359</td>\n",
       "      <td>51.401421</td>\n",
       "      <td>1094.130359</td>\n",
       "      <td>9</td>\n",
       "      <td>On</td>\n",
       "      <td>Off</td>\n",
       "      <td>3.071969</td>\n",
       "      <td>Friday</td>\n",
       "      <td>No</td>\n",
       "      <td>70.811732</td>\n",
       "    </tr>\n",
       "  </tbody>\n",
       "</table>\n",
       "</div>"
      ],
      "text/plain": [
       "             Timestamp  Temperature   Humidity  SquareFootage  Occupancy  \\\n",
       "0  2022-01-01 00:00:00    25.139433  43.431581    1565.693999          5   \n",
       "1  2022-01-01 01:00:00    27.731651  54.225919    1411.064918          1   \n",
       "2  2022-01-01 02:00:00    28.704277  58.907658    1755.715009          2   \n",
       "3  2022-01-01 03:00:00    20.080469  50.371637    1452.316318          1   \n",
       "4  2022-01-01 04:00:00    23.097359  51.401421    1094.130359          9   \n",
       "\n",
       "  HVACUsage LightingUsage  RenewableEnergy  DayOfWeek Holiday  \\\n",
       "0        On           Off         2.774699     Monday      No   \n",
       "1        On            On        21.831384   Saturday      No   \n",
       "2       Off           Off         6.764672     Sunday      No   \n",
       "3       Off            On         8.623447  Wednesday      No   \n",
       "4        On           Off         3.071969     Friday      No   \n",
       "\n",
       "   EnergyConsumption  \n",
       "0          75.364373  \n",
       "1          83.401855  \n",
       "2          78.270888  \n",
       "3          56.519850  \n",
       "4          70.811732  "
      ]
     },
     "execution_count": 5,
     "metadata": {},
     "output_type": "execute_result"
    }
   ],
   "source": [
    "df.head()"
   ]
  },
  {
   "cell_type": "code",
   "execution_count": 12,
   "id": "1fbaca9c-575d-4c33-9208-0baba2c85a43",
   "metadata": {},
   "outputs": [],
   "source": [
    "text_column = None\n",
    "for col in df.columns:\n",
    "    if df[col].dtype == 'object':  # Checking for string columns\n",
    "        text_column = col\n",
    "        break\n",
    "if text_column is None:\n",
    "    raise ValueError(\"No textual column found in the dataset for sentiment analysis.\")"
   ]
  },
  {
   "cell_type": "code",
   "execution_count": 13,
   "id": "83d4cc46-28a4-4e24-8568-64ac7e33aea0",
   "metadata": {},
   "outputs": [],
   "source": [
    "# Preprocessing function\n",
    "def clean_text(text):\n",
    "    if isinstance(text, str):\n",
    "        text = re.sub(r'http\\S+', '', text)  # Remove URLs\n",
    "        text = re.sub(r'[^a-zA-Z\\s]', '', text)  # Remove special characters\n",
    "        text = text.lower()  # Convert to lowercase\n",
    "        words = text.split()\n",
    "        words = [word for word in words if word not in stopwords.words('english')]\n",
    "        return ' '.join(words)\n",
    "    return \"\"\n",
    "\n",
    "df['cleaned_text'] = df[text_column].apply(clean_text)"
   ]
  },
  {
   "cell_type": "code",
   "execution_count": 14,
   "id": "e13640b9-e965-4fc4-97d8-2910d1beb7e3",
   "metadata": {},
   "outputs": [],
   "source": [
    "# Sentiment Analysis\n",
    "sia = SentimentIntensityAnalyzer()\n",
    "df['sentiment_score'] = df['cleaned_text'].apply(lambda x: sia.polarity_scores(x)['compound'])\n",
    "df['sentiment_label'] = df['sentiment_score'].apply(lambda x: 'positive' if x > 0.05 else ('negative' if x < -0.05 else 'neutral'))"
   ]
  },
  {
   "cell_type": "code",
   "execution_count": 15,
   "id": "17e46fd6-75fc-47f3-abb4-835dabe5aaed",
   "metadata": {},
   "outputs": [
    {
     "name": "stderr",
     "output_type": "stream",
     "text": [
      "C:\\Users\\Prashik\\AppData\\Local\\Temp\\ipykernel_9800\\3588739196.py:3: FutureWarning: \n",
      "\n",
      "Passing `palette` without assigning `hue` is deprecated and will be removed in v0.14.0. Assign the `x` variable to `hue` and set `legend=False` for the same effect.\n",
      "\n",
      "  sns.countplot(x=df['sentiment_label'], palette='viridis')\n"
     ]
    },
    {
     "data": {
      "image/png": "[encoded data removed]",
      "text/plain": [
       "<Figure size 800x500 with 1 Axes>"
      ]
     },
     "metadata": {},
     "output_type": "display_data"
    }
   ],
   "source": [
    "# Visualizing Sentiment Distribution\n",
    "plt.figure(figsize=(8, 5))\n",
    "sns.countplot(x=df['sentiment_label'], palette='viridis')\n",
    "plt.title('Sentiment Analysis Distribution')\n",
    "plt.xlabel('Sentiment')\n",
    "plt.ylabel('Count')\n",
    "plt.show()"
   ]
  },
  {
   "cell_type": "code",
   "execution_count": 16,
   "id": "35ee82a6-8456-4562-9ff0-c83068be7bc0",
   "metadata": {},
   "outputs": [
    {
     "name": "stdout",
     "output_type": "stream",
     "text": [
      "             Timestamp  Temperature   Humidity  SquareFootage  Occupancy  \\\n",
      "0  2022-01-01 00:00:00    25.139433  43.431581    1565.693999          5   \n",
      "1  2022-01-01 01:00:00    27.731651  54.225919    1411.064918          1   \n",
      "2  2022-01-01 02:00:00    28.704277  58.907658    1755.715009          2   \n",
      "3  2022-01-01 03:00:00    20.080469  50.371637    1452.316318          1   \n",
      "4  2022-01-01 04:00:00    23.097359  51.401421    1094.130359          9   \n",
      "\n",
      "  HVACUsage LightingUsage  RenewableEnergy  DayOfWeek Holiday  \\\n",
      "0        On           Off         2.774699     Monday      No   \n",
      "1        On            On        21.831384   Saturday      No   \n",
      "2       Off           Off         6.764672     Sunday      No   \n",
      "3       Off            On         8.623447  Wednesday      No   \n",
      "4        On           Off         3.071969     Friday      No   \n",
      "\n",
      "   EnergyConsumption cleaned_text  sentiment_score sentiment_label  \n",
      "0          75.364373                           0.0         neutral  \n",
      "1          83.401855                           0.0         neutral  \n",
      "2          78.270888                           0.0         neutral  \n",
      "3          56.519850                           0.0         neutral  \n",
      "4          70.811732                           0.0         neutral  \n"
     ]
    }
   ],
   "source": [
    "# Display results\n",
    "print(df.head())\n"
   ]
  },
  {
   "cell_type": "code",
   "execution_count": null,
   "id": "cdc6a4ce-9d96-417c-a37a-b412bdac653a",
   "metadata": {},
   "outputs": [],
   "source": []
  }
 ],
 "metadata": {
  "kernelspec": {
   "display_name": "Python 3 (ipykernel)",
   "language": "python",
   "name": "python3"
  },
  "language_info": {
   "codemirror_mode": {
    "name": "ipython",
    "version": 3
   },
   "file_extension": ".py",
   "mimetype": "text/x-python",
   "name": "python",
   "nbconvert_exporter": "python",
   "pygments_lexer": "ipython3",
   "version": "3.12.4"
  }
 },
 "nbformat": 4,
 "nbformat_minor": 5
}
